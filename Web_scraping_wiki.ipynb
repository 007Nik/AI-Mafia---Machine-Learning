{
 "cells": [
  {
   "cell_type": "code",
   "execution_count": 1,
   "metadata": {},
   "outputs": [],
   "source": [
    "from bs4 import BeautifulSoup\n",
    "import requests\n",
    "import pandas as pd\n",
    "from pandas import Series, DataFrame"
   ]
  },
  {
   "cell_type": "code",
   "execution_count": 19,
   "metadata": {},
   "outputs": [],
   "source": [
    "url = 'https://en.wikipedia.org/wiki/Atari_Games_Corp._v._Nintendo_of_America_Inc.'"
   ]
  },
  {
   "cell_type": "code",
   "execution_count": 20,
   "metadata": {},
   "outputs": [],
   "source": [
    "# Call the API Server using requests module\n",
    "result = requests.get(url)\n",
    "soup = BeautifulSoup(result.content, 'lxml')"
   ]
  },
  {
   "cell_type": "code",
   "execution_count": 38,
   "metadata": {},
   "outputs": [
    {
     "name": "stdout",
     "output_type": "stream",
     "text": [
      "<table class=\"infobox scotus\" style=\"width:22em\"><tbody><tr><th class=\"fn\" colspan=\"2\" style=\"text-align:center;font-size:125%;font-weight:bold;font-style: italic\">Atari Games Corp. v. Nintendo of America Inc.</th></tr><tr><td colspan=\"2\" style=\"text-align:center\"><a class=\"image\" href=\"/wiki/File:Seal_of_the_United_States_Court_of_Appeals_for_the_Federal_Circuit.svg\"><img alt=\"Seal of the United States Court of Appeals for the Federal Circuit.svg\" data-file-height=\"723\" data-file-width=\"723\" decoding=\"async\" height=\"180\" src=\"//upload.wikimedia.org/wikipedia/commons/thumb/0/0e/Seal_of_the_United_States_Court_of_Appeals_for_the_Federal_Circuit.svg/180px-Seal_of_the_United_States_Court_of_Appeals_for_the_Federal_Circuit.svg.png\" srcset=\"//upload.wikimedia.org/wikipedia/commons/thumb/0/0e/Seal_of_the_United_States_Court_of_Appeals_for_the_Federal_Circuit.svg/270px-Seal_of_the_United_States_Court_of_Appeals_for_the_Federal_Circuit.svg.png 1.5x, //upload.wikimedia.org/wikipedia/commons/thumb/0/0e/Seal_of_the_United_States_Court_of_Appeals_for_the_Federal_Circuit.svg/360px-Seal_of_the_United_States_Court_of_Appeals_for_the_Federal_Circuit.svg.png 2x\" width=\"180\"/></a></td></tr><tr><th scope=\"row\">Court</th><td><a href=\"/wiki/United_States_Court_of_Appeals_for_the_Federal_Circuit\" title=\"United States Court of Appeals for the Federal Circuit\">United States Court of Appeals for the Federal Circuit</a></td></tr><tr><th scope=\"row\">Full case name</th><td><i>ATARI GAMES CORP. and Tengen, Inc., Plaintiffs-Appellants, v. NINTENDO OF AMERICA INC. and Nintendo Co., Ltd., Defendants-Appellees. </i></td></tr><tr><th scope=\"row\">Decided</th><td>September 10 1992</td></tr><tr><th scope=\"row\">Citation(s)</th><td>975 F.2d 832</td></tr><tr><th colspan=\"2\" style=\"text-align:center;white-space:nowrap\">Holding</th></tr><tr><td colspan=\"2\" style=\"text-align:center\">Atari was held liable for copyright infringement, affirming the district court's decision.</td></tr><tr><th colspan=\"2\" style=\"text-align:center;white-space:nowrap\">Court membership</th></tr><tr><th scope=\"row\">Judge(s) sitting</th><td><a href=\"/wiki/Raymond_C._Clevenger\" title=\"Raymond C. Clevenger\">Raymond C. Clevenger</a>, <a href=\"/wiki/Edward_Samuel_Smith\" title=\"Edward Samuel Smith\">Edward Samuel Smith</a>, <a href=\"/wiki/Randall_Ray_Rader\" title=\"Randall Ray Rader\">Randall Ray Rader</a></td></tr><tr><th colspan=\"2\" style=\"text-align:center;white-space:nowrap\">Case opinions</th></tr><tr><th scope=\"row\">Majority</th><td><a href=\"/wiki/Randall_Ray_Rader\" title=\"Randall Ray Rader\">Randall Ray Rader</a></td></tr></tbody></table>\n"
     ]
    }
   ],
   "source": [
    "cnt = soup.findAll('div')\n",
    "y = cnt[2].find(class_= 'infobox scotus')\n",
    "print (y)"
   ]
  },
  {
   "cell_type": "code",
   "execution_count": null,
   "metadata": {},
   "outputs": [],
   "source": [
    "l = summary.findAll('h4')\n",
    "series = [ele.get_text() for ele in l]\n",
    "print (series)"
   ]
  },
  {
   "cell_type": "code",
   "execution_count": 27,
   "metadata": {},
   "outputs": [
    {
     "name": "stdout",
     "output_type": "stream",
     "text": [
      "[        Atari Games Corp. v. Nintendo of America Inc.  \\\n",
      "0                                                 NaN   \n",
      "1                                               Court   \n",
      "2                                      Full case name   \n",
      "3                                             Decided   \n",
      "4                                         Citation(s)   \n",
      "5                                             Holding   \n",
      "6   Atari was held liable for copyright infringeme...   \n",
      "7                                    Court membership   \n",
      "8                                    Judge(s) sitting   \n",
      "9                                       Case opinions   \n",
      "10                                           Majority   \n",
      "\n",
      "      Atari Games Corp. v. Nintendo of America Inc..1  \n",
      "0                                                 NaN  \n",
      "1   United States Court of Appeals for the Federal...  \n",
      "2   ATARI GAMES CORP. and Tengen, Inc., Plaintiffs...  \n",
      "3                                   September 10 1992  \n",
      "4                                        975 F.2d 832  \n",
      "5                                             Holding  \n",
      "6   Atari was held liable for copyright infringeme...  \n",
      "7                                    Court membership  \n",
      "8   Raymond C. Clevenger, Edward Samuel Smith, Ran...  \n",
      "9                                       Case opinions  \n",
      "10                                  Randall Ray Rader  ,            vteNintendo                                      vteNintendo.1  \\\n",
      "0           Presidents  Fusajiro Yamauchi (1889–1929) Sekiryo Kaneda (...   \n",
      "1             Products  Video games Video games mobile games Consoles ...   \n",
      "2          Video games      Video games mobile games Consoles Controllers   \n",
      "3                 Toys  Love Tester Nintendo tumbler puzzle Ultra Hand...   \n",
      "4             Services  Nintendo eShop Nintendo Network Nintendo Netwo...   \n",
      "5   Software divisions  Entertainment Planning & Development Platform ...   \n",
      "6         Publications  Nintendo Fun Club Nintendo La Rivista Ufficial...   \n",
      "7               Events  Camp Hyrule Classic Tetris World Championship ...   \n",
      "8            Locations  Nintendo Mégadôme Nintendo New York Shigureden...   \n",
      "9          Legal cases  Atari Games Corp. v. Nintendo of America Inc. ...   \n",
      "10             Related  History Development teams Characters My Ninten...   \n",
      "\n",
      "    vteNintendo.2  \n",
      "0             NaN  \n",
      "1             NaN  \n",
      "2             NaN  \n",
      "3             NaN  \n",
      "4             NaN  \n",
      "5             NaN  \n",
      "6             NaN  \n",
      "7             NaN  \n",
      "8             NaN  \n",
      "9             NaN  \n",
      "10            NaN  ,              0                                                  1\n",
      "0  Video games      Video games mobile games Consoles Controllers\n",
      "1         Toys  Love Tester Nintendo tumbler puzzle Ultra Hand...]\n"
     ]
    }
   ],
   "source": [
    "fd = pd.read_html(url)\n",
    "print (fd)"
   ]
  },
  {
   "cell_type": "code",
   "execution_count": null,
   "metadata": {},
   "outputs": [],
   "source": []
  },
  {
   "cell_type": "code",
   "execution_count": null,
   "metadata": {},
   "outputs": [],
   "source": []
  }
 ],
 "metadata": {
  "kernelspec": {
   "display_name": "Python 3",
   "language": "python",
   "name": "python3"
  },
  "language_info": {
   "codemirror_mode": {
    "name": "ipython",
    "version": 3
   },
   "file_extension": ".py",
   "mimetype": "text/x-python",
   "name": "python",
   "nbconvert_exporter": "python",
   "pygments_lexer": "ipython3",
   "version": "3.7.4"
  }
 },
 "nbformat": 4,
 "nbformat_minor": 2
}
