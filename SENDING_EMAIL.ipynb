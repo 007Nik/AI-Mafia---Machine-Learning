{
 "cells": [
  {
   "cell_type": "code",
   "execution_count": 5,
   "metadata": {},
   "outputs": [],
   "source": [
    "import smtplib\n",
    "import getpass\n",
    "from email.mime.text import MIMEText"
   ]
  },
  {
   "cell_type": "code",
   "execution_count": 7,
   "metadata": {},
   "outputs": [
    {
     "name": "stdout",
     "output_type": "stream",
     "text": [
      "········\n"
     ]
    }
   ],
   "source": [
    "def send_email():\n",
    "    senders_add = 'nk4417970@gmail.com'\n",
    "    password = getpass.getpass()\n",
    "    sub = 'Learn.Inspire.Grow'\n",
    "    msg = '''\n",
    "        Hello Everyone\n",
    "        We are pleased announce that we are going to start a new batch\n",
    "        of AI Mafia, Hope you will join!\n",
    "        \n",
    "        Thank you!\n",
    "        Nitin Kumar\n",
    "    '''\n",
    "    \n",
    "    #server intialization\n",
    "    server = smtplib.SMTP('smtp.gmail.com', 587)\n",
    "    server.starttls()\n",
    "    server.login(senders_add,password)\n",
    "    \n",
    "    #draft my message body\n",
    "    msg = MIMEText(msg)\n",
    "    msg['Subject'] = sub\n",
    "    msg['From'] = senders_add\n",
    "    #msg['To'] = 'nk4417970@gmail.com'\n",
    "    recipients = ['nk44179700@gmail.com','flipnik777@gmail.com']\n",
    "    msg.set_param('importance','high value') #optional\n",
    "    server.sendmail(senders_add, recipients, msg.as_string())\n",
    "\n",
    "\n",
    "send_email()"
   ]
  },
  {
   "cell_type": "code",
   "execution_count": null,
   "metadata": {},
   "outputs": [],
   "source": []
  },
  {
   "cell_type": "code",
   "execution_count": null,
   "metadata": {},
   "outputs": [],
   "source": []
  },
  {
   "cell_type": "code",
   "execution_count": null,
   "metadata": {},
   "outputs": [],
   "source": []
  },
  {
   "cell_type": "code",
   "execution_count": null,
   "metadata": {},
   "outputs": [],
   "source": []
  },
  {
   "cell_type": "code",
   "execution_count": null,
   "metadata": {},
   "outputs": [],
   "source": []
  },
  {
   "cell_type": "code",
   "execution_count": null,
   "metadata": {},
   "outputs": [],
   "source": []
  }
 ],
 "metadata": {
  "kernelspec": {
   "display_name": "Python 3",
   "language": "python",
   "name": "python3"
  },
  "language_info": {
   "codemirror_mode": {
    "name": "ipython",
    "version": 3
   },
   "file_extension": ".py",
   "mimetype": "text/x-python",
   "name": "python",
   "nbconvert_exporter": "python",
   "pygments_lexer": "ipython3",
   "version": "3.7.4"
  }
 },
 "nbformat": 4,
 "nbformat_minor": 2
}
